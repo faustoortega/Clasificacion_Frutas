{
 "cells": [
  {
   "cell_type": "code",
   "execution_count": 23,
   "metadata": {},
   "outputs": [
    {
     "name": "stdout",
     "output_type": "stream",
     "text": [
      "WARNING:tensorflow:No training configuration found in the save file, so the model was *not* compiled. Compile it manually.\n"
     ]
    }
   ],
   "source": [
    "import tensorflow.keras\n",
    "from PIL import Image, ImageOps\n",
    "import numpy as np\n",
    "import cv2 as cv \n",
    "\n",
    "\n",
    "\n",
    "# Cargamos el modelo\n",
    "model = tensorflow.keras.models.load_model('keras_model.h5')\n",
    "\n",
    "#leemos las etiquetas\n",
    "labels=\"\"\n",
    "with open(\"label.txt\",\"r\") as f:\n",
    "    labels=f.read()\n",
    "    f.close()\n",
    "    \n",
    "labels=labels.split(\"\\n\")\n",
    "#print(labels)\n",
    "\n",
    "#creamos un objeto de tipo VideoCapture\n",
    "cap =cv.VideoCapture(2)\n",
    "cv.namedWindow(\"SALIDA\", cv.WINDOW_NORMAL)\n",
    "\n",
    "while cap.isOpened():\n",
    "    \n",
    "    ret,frame = cap.read()\n",
    "    \n",
    "    if ret:\n",
    "        \n",
    "        img= cv.resize(frame,(224,224))\n",
    "        #Cree la matriz de la forma correcta para alimentar el modelo de keras\n",
    "        # La 'longitud' o número de imágenes que puede poner en la matriz es\n",
    "        # determinado por la primera posición en la tupla de forma, en este caso 1. \n",
    "        data = np.ndarray(shape=(1, 224, 224, 3), dtype=np.float32)\n",
    "\n",
    "        # Normalisacion de la imagen\n",
    "        img_normalizada = (img.astype(np.float32) / 127.0) - 1\n",
    "\n",
    "        # Cargamos la imagen dentro del array\n",
    "        data[0] = img_normalizada\n",
    "\n",
    "        # Corremos la predicion\n",
    "        prediccion = model.predict(data)\n",
    "        pred = prediccion[0]\n",
    "        \n",
    "        if int(pred[np.argmax(prediccion)]*100) > 60:\n",
    "            \n",
    "            label = labels[np.argmax(prediccion)]\n",
    "            texto =label +\" \"+ \"{:.2f}\".format(pred[np.argmax(prediccion)]*100) +\"%\"\n",
    "            ubicacion = (25,50)\n",
    "            cv.putText(frame, texto, ubicacion, cv.FONT_HERSHEY_TRIPLEX, 1, (221,82,196), 1)\n",
    "        \n",
    "        cv.imshow(\"SALIDA\",frame)\n",
    "        \n",
    "        if cv.waitKey(10) & 0xFF==ord(\"q\"):\n",
    "            break\n",
    "            \n",
    "            \n",
    "    else:\n",
    "        break\n",
    "        \n",
    "cap.release()\n",
    "cv.destroyAllWindows()"
   ]
  },
  {
   "cell_type": "code",
   "execution_count": 11,
   "metadata": {},
   "outputs": [],
   "source": [
    "cap.release()\n",
    "cv.destroyAllWindows()"
   ]
  }
 ],
 "metadata": {
  "kernelspec": {
   "display_name": "Python 3",
   "language": "python",
   "name": "python3"
  },
  "language_info": {
   "codemirror_mode": {
    "name": "ipython",
    "version": 3
   },
   "file_extension": ".py",
   "mimetype": "text/x-python",
   "name": "python",
   "nbconvert_exporter": "python",
   "pygments_lexer": "ipython3",
   "version": "3.6.12"
  }
 },
 "nbformat": 4,
 "nbformat_minor": 4
}
